{
 "cells": [
  {
   "cell_type": "markdown",
   "id": "6bab2c65-4296-4f58-a398-a4b186065dba",
   "metadata": {},
   "source": [
    "# Data Science Tools and Ecosystem"
   ]
  },
  {
   "cell_type": "markdown",
   "id": "039c73c9-bdff-44b4-ac98-2a1a8056af10",
   "metadata": {},
   "source": [
    "This notebook offers a concise overview of the data science universe."
   ]
  },
  {
   "cell_type": "markdown",
   "id": "ae38a36a-a4ab-45f9-85e1-f06e99979f6c",
   "metadata": {},
   "source": [
    "**Objectives:**\n",
    "- List popular programming languages used in data science.\n",
    "- Identify the most commonly used libraries among data scientists.\n",
    "- Tabulate open-source development enviroment tools used in data science.\n",
    "- Showcase examples of Markdown cells with various formatting styles.\n",
    "- Demonstrate code cells with different arithmetic expressions."
   ]
  },
  {
   "cell_type": "markdown",
   "id": "8aefefd5-dc7c-4ad7-8cb0-bb7d3d6db8a4",
   "metadata": {},
   "source": [
    "Among the programming languages most widely used by data scientists, we can mention:\n",
    "1. Python\n",
    "2. R\n",
    "3. SQL\n",
    "4. Scala\n",
    "5. Julia\n",
    "6. C/C++"
   ]
  },
  {
   "cell_type": "markdown",
   "id": "32e6ac2b-c173-4dac-a4fe-0fa4f6224be4",
   "metadata": {},
   "source": [
    "Some of the libraries commonly used by data scientists include:\n",
    "1. pandas (Python): Tabular data manipulation and analysis.\n",
    "2. NumPy (Python): Efficient numerical computations with arrays.\n",
    "3. scikit-learn (Python): Statistical modeling and machine learning.\n",
    "4. seaborn (Python): Data visualization.\n",
    "5. dplyr (R): Streamlined data wrangling with tidyverse.\n",
    "6. ggplot2 (R): Data visualization.\n",
    "7. caret (R): - Training and visualization of predictive models."
   ]
  },
  {
   "cell_type": "markdown",
   "id": "363f6b8d-ad97-4e6b-a75b-29034d23b9dc",
   "metadata": {},
   "source": [
    "|Data Science Tools|\n",
    "|---|\n",
    "|Jupyter Notebook|\n",
    "|RStudio|\n",
    "|Apache Spark|"
   ]
  },
  {
   "cell_type": "markdown",
   "id": "a3ca9cfe-90ef-4c70-9136-86d1271be005",
   "metadata": {},
   "source": [
    "### Below are a few examples of evaluating arithmetic expressions in Python"
   ]
  },
  {
   "cell_type": "code",
   "execution_count": 1,
   "id": "88485c72-a65b-46f9-9541-a91be9db32d3",
   "metadata": {},
   "outputs": [
    {
     "data": {
      "text/plain": [
       "17"
      ]
     },
     "execution_count": 1,
     "metadata": {},
     "output_type": "execute_result"
    }
   ],
   "source": [
    "# his a simple arithmetic expression to mutiply then add integers\n",
    "(3*4)+5"
   ]
  },
  {
   "cell_type": "code",
   "execution_count": 2,
   "id": "2728e136-6119-457a-9e23-28f5472dd6d9",
   "metadata": {},
   "outputs": [
    {
     "data": {
      "text/plain": [
       "3.3333333333333335"
      ]
     },
     "execution_count": 2,
     "metadata": {},
     "output_type": "execute_result"
    }
   ],
   "source": [
    "#This will convert 200 minutes to hours by diving by 60\n",
    "200/60"
   ]
  },
  {
   "cell_type": "markdown",
   "id": "51fa1394-d6de-4bf8-a7f5-22fbb7a62c50",
   "metadata": {},
   "source": [
    "## Author:\n",
    "Miguel Gascón"
   ]
  }
 ],
 "metadata": {
  "kernelspec": {
   "display_name": "Python [conda env:RP_Env]",
   "language": "python",
   "name": "conda-env-RP_Env-py"
  },
  "language_info": {
   "codemirror_mode": {
    "name": "ipython",
    "version": 3
   },
   "file_extension": ".py",
   "mimetype": "text/x-python",
   "name": "python",
   "nbconvert_exporter": "python",
   "pygments_lexer": "ipython3",
   "version": "3.12.11"
  }
 },
 "nbformat": 4,
 "nbformat_minor": 5
}
