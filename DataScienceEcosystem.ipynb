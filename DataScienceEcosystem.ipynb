{
 "cells": [
  {
   "cell_type": "markdown",
   "id": "e80885c9-bab2-4b59-a2b4-6df2ae6a1075",
   "metadata": {},
   "source": [
    "# Data Science Tools and Ecosystem"
   ]
  },
  {
   "cell_type": "markdown",
   "id": "95cfa46e-f628-4d17-ba61-9c454932052a",
   "metadata": {},
   "source": [
    "En este notebook, se da una mirada compacta al universo de la ciencia de datos, abarcando desde herramientas hasta estilos."
   ]
  },
  {
   "cell_type": "markdown",
   "id": "f6e1d6b5-3544-4283-bf41-4a3bb83f82c8",
   "metadata": {},
   "source": [
    "**Objetivos:**\n",
    "- Listar lenguajes populares para ciencia de datos.\n",
    "- Listar las bibliotecas más utilizadas por los científicos de datos.\n",
    "- Tabular las herramientas de código abierto del entorno de desarrollo utilizadas en ciencia de datos.\n",
    "- Mostrar ejemplos de celdas Markdown con estilos de formatos variados.\n",
    "- Mostrar ejemplos de celdas de código con diferentes expresiones aritméticas."
   ]
  },
  {
   "cell_type": "markdown",
   "id": "fa101131-7c37-4782-ac72-7168b4ae0080",
   "metadata": {},
   "source": [
    "Entre los lenguajes de programación más utilizados por los científicos de datos podemos mencionar:\n",
    "1. Python\n",
    "2. R\n",
    "3. SQL\n",
    "4. Scala\n",
    "5. Julia\n",
    "6. C/C++"
   ]
  },
  {
   "cell_type": "markdown",
   "id": "9441ba6a-6e3f-4833-a9d6-9a8826815910",
   "metadata": {},
   "source": [
    "Algunas de las bibliotecas más utilizadas por los científicos de datos incluyen:\n",
    "1. pandas (Python): Manipulación de datos.\n",
    "2. NumPy (Python): Cálculos numéricos.\n",
    "3. scikit-learn (Python): Modelaje estadístico y aprendizaje automático.\n",
    "4. seaborn (Python): Visualización de datos.\n",
    "5. dplyr (R): Manipulación de datos.\n",
    "6. ggplot2 (R): Visualización de datos.\n",
    "7. carte (R): Entrenamiento y visualización de modelos predictivos."
   ]
  },
  {
   "cell_type": "markdown",
   "id": "bb72873a-8bc8-42e8-97c3-47974f452ed5",
   "metadata": {},
   "source": [
    "|Herramientas de Ciencia de Datos|\n",
    "|----|\n",
    "|Jupyter Notebook|\n",
    "|RStudio|\n",
    "|Apache Spark|"
   ]
  },
  {
   "cell_type": "markdown",
   "id": "a8b1d637-90fd-4097-b411-804cfe253b27",
   "metadata": {},
   "source": [
    "### A continuación, se presentan algunos ejemplos de evaluación de expresiones aritméticas en Python"
   ]
  },
  {
   "cell_type": "code",
   "execution_count": 2,
   "id": "250c170f-353d-47fb-90a5-0cbd3ab0fda3",
   "metadata": {},
   "outputs": [
    {
     "data": {
      "text/plain": [
       "17"
      ]
     },
     "execution_count": 2,
     "metadata": {},
     "output_type": "execute_result"
    }
   ],
   "source": [
    "# Esta es una expresión aritmética simple para multiplicar y luego sumar enteros\n",
    "(3*4)+5"
   ]
  },
  {
   "cell_type": "code",
   "execution_count": 3,
   "id": "5644fba1-51c8-4fb5-813e-61b9acbe4665",
   "metadata": {},
   "outputs": [
    {
     "data": {
      "text/plain": [
       "3.3333333333333335"
      ]
     },
     "execution_count": 3,
     "metadata": {},
     "output_type": "execute_result"
    }
   ],
   "source": [
    "#Esto convertirá 200 minutos a horas dividiendo por 60\n",
    "200/60"
   ]
  },
  {
   "cell_type": "markdown",
   "id": "4001bb86-eec6-415a-9fb7-fdc98bcb8849",
   "metadata": {},
   "source": [
    "## Autor:\n",
    "Miguel Gascón"
   ]
  }
 ],
 "metadata": {
  "kernelspec": {
   "display_name": "Python 3 (ipykernel)",
   "language": "python",
   "name": "python3"
  },
  "language_info": {
   "codemirror_mode": {
    "name": "ipython",
    "version": 3
   },
   "file_extension": ".py",
   "mimetype": "text/x-python",
   "name": "python",
   "nbconvert_exporter": "python",
   "pygments_lexer": "ipython3",
   "version": "3.12.8"
  }
 },
 "nbformat": 4,
 "nbformat_minor": 5
}
